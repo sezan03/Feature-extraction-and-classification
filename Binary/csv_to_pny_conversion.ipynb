{
 "metadata": {
  "language_info": {
   "codemirror_mode": {
    "name": "ipython",
    "version": 3
   },
   "file_extension": ".py",
   "mimetype": "text/x-python",
   "name": "python",
   "nbconvert_exporter": "python",
   "pygments_lexer": "ipython3",
   "version": "3.8.3-final"
  },
  "orig_nbformat": 2,
  "kernelspec": {
   "name": "python_defaultSpec_1605603322631",
   "display_name": "Python 3.8.3 64-bit"
  }
 },
 "nbformat": 4,
 "nbformat_minor": 2,
 "cells": [
  {
   "cell_type": "code",
   "execution_count": 2,
   "metadata": {},
   "outputs": [
    {
     "output_type": "execute_result",
     "data": {
      "text/plain": "'location1=input(\"Enter the path of csv file:\")\\ndata = pd.read_csv(location1) \\n# Preview the first 5 lines of the loaded data \\n# data.head()\\n\\ndata.drop([\\'0\\'], axis = 1, inplace = True) \\n#data.head()\\n\\n#data.to_csv(\\'Extracted/test.csv\\',index=False)\\nnpy=data.to_numpy()\\n# type(npy)\\nlocation2=input(\"Enter the path to create npy file:\")\\nnp.save(location2,npy)'"
     },
     "metadata": {},
     "execution_count": 2
    }
   ],
   "source": [
    "import pandas as pd\n",
    "import numpy as np\n",
    "\n",
    "'''location1=input(\"Enter the path of csv file:\")\n",
    "data = pd.read_csv(location1) \n",
    "# Preview the first 5 lines of the loaded data \n",
    "# data.head()\n",
    "\n",
    "data.drop(['0'], axis = 1, inplace = True) \n",
    "#data.head()\n",
    "\n",
    "#data.to_csv('Extracted/test.csv',index=False)\n",
    "npy=data.to_numpy()\n",
    "# type(npy)\n",
    "location2=input(\"Enter the path to create npy file:\")\n",
    "np.save(location2,npy)'''"
   ]
  },
  {
   "cell_type": "code",
   "execution_count": 3,
   "metadata": {},
   "outputs": [
    {
     "output_type": "execute_result",
     "data": {
      "text/plain": "                                                   0\n0  0  1:0  2:0  3:1  4:0  5:0  6:0  7:0  8:1  9:0...\n1  0  1:0  2:0  3:0  4:1  5:0  6:0  7:0  8:1  9:0...\n2  0  1:0  2:0  3:0  4:1  5:0  6:0  7:1  8:0  9:0...\n3  0  1:0  2:1  3:0  4:0  5:0  6:1  7:0  8:0  9:0...\n4  0  1:1  2:0  3:0  4:0  5:1  6:0  7:0  8:0  9:0...",
      "text/html": "<div>\n<style scoped>\n    .dataframe tbody tr th:only-of-type {\n        vertical-align: middle;\n    }\n\n    .dataframe tbody tr th {\n        vertical-align: top;\n    }\n\n    .dataframe thead th {\n        text-align: right;\n    }\n</style>\n<table border=\"1\" class=\"dataframe\">\n  <thead>\n    <tr style=\"text-align: right;\">\n      <th></th>\n      <th>0</th>\n    </tr>\n  </thead>\n  <tbody>\n    <tr>\n      <th>0</th>\n      <td>0  1:0  2:0  3:1  4:0  5:0  6:0  7:0  8:1  9:0...</td>\n    </tr>\n    <tr>\n      <th>1</th>\n      <td>0  1:0  2:0  3:0  4:1  5:0  6:0  7:0  8:1  9:0...</td>\n    </tr>\n    <tr>\n      <th>2</th>\n      <td>0  1:0  2:0  3:0  4:1  5:0  6:0  7:1  8:0  9:0...</td>\n    </tr>\n    <tr>\n      <th>3</th>\n      <td>0  1:0  2:1  3:0  4:0  5:0  6:1  7:0  8:0  9:0...</td>\n    </tr>\n    <tr>\n      <th>4</th>\n      <td>0  1:1  2:0  3:0  4:0  5:1  6:0  7:0  8:0  9:0...</td>\n    </tr>\n  </tbody>\n</table>\n</div>"
     },
     "metadata": {},
     "execution_count": 3
    }
   ],
   "source": [
    "data = pd.read_csv(\"NA_test_binary.csv\", header=None)\n",
    "data.head()"
   ]
  },
  {
   "cell_type": "code",
   "execution_count": 4,
   "metadata": {
    "tags": []
   },
   "outputs": [
    {
     "output_type": "stream",
     "name": "stdout",
     "text": "[]\n"
    }
   ],
   "source": [
    "data = data.to_numpy()[:,1:]\n",
    "print(data[0,:])\n",
    "np.save(\"NA_test_binary.npy\",data)"
   ]
  },
  {
   "cell_type": "code",
   "execution_count": 5,
   "metadata": {
    "tags": []
   },
   "outputs": [
    {
     "output_type": "stream",
     "name": "stdout",
     "text": "[]\n"
    }
   ],
   "source": [
    "data = pd.read_csv(\"NA_train_binary.csv\", header=None)\n",
    "data.head()\n",
    "data = data.to_numpy()[:,1:]\n",
    "print(data[0,:])\n",
    "np.save(\"NA_train_binary.npy\",data)"
   ]
  },
  {
   "cell_type": "code",
   "execution_count": 6,
   "metadata": {
    "tags": []
   },
   "outputs": [
    {
     "output_type": "stream",
     "name": "stdout",
     "text": "[]\n"
    }
   ],
   "source": [
    "data = pd.read_csv(\"PA_test_binary.csv\", header=None)\n",
    "data.head()\n",
    "data = data.to_numpy()[:,1:]\n",
    "print(data[0,:])\n",
    "np.save(\"PA_test_binary.npy\",data)"
   ]
  },
  {
   "cell_type": "code",
   "execution_count": 7,
   "metadata": {
    "tags": []
   },
   "outputs": [
    {
     "output_type": "stream",
     "name": "stdout",
     "text": "[]\n"
    }
   ],
   "source": [
    "data = pd.read_csv(\"PA_train_binary.csv\", header=None)\n",
    "data.head()\n",
    "data = data.to_numpy()[:,1:]\n",
    "print(data[0,:])\n",
    "np.save(\"PA_train_binary.npy\",data)"
   ]
  },
  {
   "cell_type": "code",
   "execution_count": null,
   "metadata": {},
   "outputs": [],
   "source": []
  }
 ]
}