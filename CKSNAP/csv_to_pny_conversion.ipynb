{
 "metadata": {
  "language_info": {
   "codemirror_mode": {
    "name": "ipython",
    "version": 3
   },
   "file_extension": ".py",
   "mimetype": "text/x-python",
   "name": "python",
   "nbconvert_exporter": "python",
   "pygments_lexer": "ipython3",
   "version": "3.8.3-final"
  },
  "orig_nbformat": 2,
  "kernelspec": {
   "name": "python_defaultSpec_1605604636038",
   "display_name": "Python 3.8.3 64-bit"
  }
 },
 "nbformat": 4,
 "nbformat_minor": 2,
 "cells": [
  {
   "cell_type": "code",
   "execution_count": 23,
   "metadata": {},
   "outputs": [],
   "source": [
    "import pandas as pd\n",
    "import numpy as np"
   ]
  },
  {
   "cell_type": "code",
   "execution_count": 24,
   "metadata": {
    "tags": []
   },
   "outputs": [
    {
     "output_type": "stream",
     "name": "stdout",
     "text": "[]\n"
    }
   ],
   "source": [
    "data = pd.read_csv(\"NA_test_CKSNAP_gap-1.csv\", header=None)\n",
    "data.head()\n",
    "data = data.to_numpy()[:,1:]\n",
    "print(data[0,:])\n",
    "np.save(\"NA_test_CKSNAP_gap-1.npy\",data)"
   ]
  },
  {
   "cell_type": "code",
   "execution_count": 25,
   "metadata": {
    "tags": []
   },
   "outputs": [
    {
     "output_type": "stream",
     "name": "stdout",
     "text": "[]\n"
    }
   ],
   "source": [
    "data = pd.read_csv(\"NA_test_CKSNAP_gap-3.csv\", header=None)\n",
    "data.head()\n",
    "data = data.to_numpy()[:,1:]\n",
    "print(data[0,:])\n",
    "np.save(\"NA_test_CKSNAP_gap-1.npy\",data)"
   ]
  },
  {
   "cell_type": "code",
   "execution_count": 26,
   "metadata": {
    "tags": []
   },
   "outputs": [
    {
     "output_type": "stream",
     "name": "stdout",
     "text": "[]\n"
    }
   ],
   "source": [
    "data = pd.read_csv(\"NA_test_CKSNAP_gap-5.csv\", header=None)\n",
    "data.head()\n",
    "data = data.to_numpy()[:,1:]\n",
    "print(data[0,:])\n",
    "np.save(\"NA_test_CKSNAP_gap-1.npy\",data)"
   ]
  },
  {
   "cell_type": "code",
   "execution_count": 27,
   "metadata": {
    "tags": []
   },
   "outputs": [
    {
     "output_type": "stream",
     "name": "stdout",
     "text": "[]\n"
    }
   ],
   "source": [
    "data = pd.read_csv(\"NA_test_CKSNAP_gap-7.csv\", header=None)\n",
    "data.head()\n",
    "data = data.to_numpy()[:,1:]\n",
    "print(data[0,:])\n",
    "np.save(\"NA_test_CKSNAP_gap-1.npy\",data)"
   ]
  },
  {
   "cell_type": "code",
   "execution_count": 28,
   "metadata": {
    "tags": []
   },
   "outputs": [
    {
     "output_type": "stream",
     "name": "stdout",
     "text": "[]\n"
    }
   ],
   "source": [
    "data = pd.read_csv(\"NA_test_CKSNAP_gap-9.csv\", header=None)\n",
    "data.head()\n",
    "data = data.to_numpy()[:,1:]\n",
    "print(data[0,:])\n",
    "np.save(\"NA_test_CKSNAP_gap-1.npy\",data)"
   ]
  },
  {
   "cell_type": "code",
   "execution_count": 29,
   "metadata": {
    "tags": []
   },
   "outputs": [
    {
     "output_type": "stream",
     "name": "stdout",
     "text": "[]\n"
    }
   ],
   "source": [
    "data = pd.read_csv(\"NA_train_CKSNAP_gap-1.csv\", header=None)\n",
    "data.head()\n",
    "data = data.to_numpy()[:,1:]\n",
    "print(data[0,:])\n",
    "np.save(\"NA_test_CKSNAP_gap-1.npy\",data)"
   ]
  },
  {
   "cell_type": "code",
   "execution_count": 30,
   "metadata": {
    "tags": []
   },
   "outputs": [
    {
     "output_type": "stream",
     "name": "stdout",
     "text": "[]\n"
    }
   ],
   "source": [
    "data = pd.read_csv(\"NA_train_CKSNAP_gap-3.csv\", header=None)\n",
    "data.head()\n",
    "data = data.to_numpy()[:,1:]\n",
    "print(data[0,:])\n",
    "np.save(\"NA_test_CKSNAP_gap-1.npy\",data)"
   ]
  },
  {
   "cell_type": "code",
   "execution_count": 31,
   "metadata": {
    "tags": []
   },
   "outputs": [
    {
     "output_type": "stream",
     "name": "stdout",
     "text": "[]\n"
    }
   ],
   "source": [
    "data = pd.read_csv(\"NA_train_CKSNAP_gap-5.csv\", header=None)\n",
    "data.head()\n",
    "data = data.to_numpy()[:,1:]\n",
    "print(data[0,:])\n",
    "np.save(\"NA_test_CKSNAP_gap-1.npy\",data)"
   ]
  },
  {
   "cell_type": "code",
   "execution_count": 32,
   "metadata": {
    "tags": []
   },
   "outputs": [
    {
     "output_type": "stream",
     "name": "stdout",
     "text": "[]\n"
    }
   ],
   "source": [
    "data = pd.read_csv(\"NA_train_CKSNAP_gap-7.csv\", header=None)\n",
    "data.head()\n",
    "data = data.to_numpy()[:,1:]\n",
    "print(data[0,:])\n",
    "np.save(\"NA_test_CKSNAP_gap-1.npy\",data)"
   ]
  },
  {
   "cell_type": "code",
   "execution_count": 33,
   "metadata": {
    "tags": []
   },
   "outputs": [
    {
     "output_type": "stream",
     "name": "stdout",
     "text": "[]\n"
    }
   ],
   "source": [
    "data = pd.read_csv(\"NA_train_CKSNAP_gap-9.csv\", header=None)\n",
    "data.head()\n",
    "data = data.to_numpy()[:,1:]\n",
    "print(data[0,:])\n",
    "np.save(\"NA_test_CKSNAP_gap-1.npy\",data)"
   ]
  },
  {
   "cell_type": "code",
   "execution_count": 34,
   "metadata": {
    "tags": []
   },
   "outputs": [
    {
     "output_type": "stream",
     "name": "stdout",
     "text": "[]\n"
    }
   ],
   "source": [
    "data = pd.read_csv(\"PA_test_CKSNAP_gap-1.csv\", header=None)\n",
    "data.head()\n",
    "data = data.to_numpy()[:,1:]\n",
    "print(data[0,:])\n",
    "np.save(\"NA_test_CKSNAP_gap-1.npy\",data)"
   ]
  },
  {
   "cell_type": "code",
   "execution_count": 35,
   "metadata": {
    "tags": []
   },
   "outputs": [
    {
     "output_type": "stream",
     "name": "stdout",
     "text": "[]\n"
    }
   ],
   "source": [
    "data = pd.read_csv(\"PA_test_CKSNAP_gap-3.csv\", header=None)\n",
    "data.head()\n",
    "data = data.to_numpy()[:,1:]\n",
    "print(data[0,:])\n",
    "np.save(\"NA_test_CKSNAP_gap-1.npy\",data)"
   ]
  },
  {
   "cell_type": "code",
   "execution_count": 36,
   "metadata": {
    "tags": []
   },
   "outputs": [
    {
     "output_type": "stream",
     "name": "stdout",
     "text": "[]\n"
    }
   ],
   "source": [
    "data = pd.read_csv(\"PA_test_CKSNAP_gap-5.csv\", header=None)\n",
    "data.head()\n",
    "data = data.to_numpy()[:,1:]\n",
    "print(data[0,:])\n",
    "np.save(\"NA_test_CKSNAP_gap-1.npy\",data)"
   ]
  },
  {
   "cell_type": "code",
   "execution_count": 37,
   "metadata": {
    "tags": []
   },
   "outputs": [
    {
     "output_type": "stream",
     "name": "stdout",
     "text": "[]\n"
    }
   ],
   "source": [
    "data = pd.read_csv(\"PA_test_CKSNAP_gap-7.csv\", header=None)\n",
    "data.head()\n",
    "data = data.to_numpy()[:,1:]\n",
    "print(data[0,:])\n",
    "np.save(\"NA_test_CKSNAP_gap-1.npy\",data)"
   ]
  },
  {
   "cell_type": "code",
   "execution_count": 38,
   "metadata": {
    "tags": []
   },
   "outputs": [
    {
     "output_type": "stream",
     "name": "stdout",
     "text": "[]\n"
    }
   ],
   "source": [
    "data = pd.read_csv(\"PA_test_CKSNAP_gap-9.csv\", header=None)\n",
    "data.head()\n",
    "data = data.to_numpy()[:,1:]\n",
    "print(data[0,:])\n",
    "np.save(\"NA_test_CKSNAP_gap-1.npy\",data)"
   ]
  },
  {
   "cell_type": "code",
   "execution_count": 39,
   "metadata": {
    "tags": []
   },
   "outputs": [
    {
     "output_type": "stream",
     "name": "stdout",
     "text": "[]\n"
    }
   ],
   "source": [
    "data = pd.read_csv(\"PA_train_CKSNAP_gap-1.csv\", header=None)\n",
    "data.head()\n",
    "data = data.to_numpy()[:,1:]\n",
    "print(data[0,:])\n",
    "np.save(\"NA_test_CKSNAP_gap-1.npy\",data)"
   ]
  },
  {
   "cell_type": "code",
   "execution_count": 40,
   "metadata": {
    "tags": []
   },
   "outputs": [
    {
     "output_type": "stream",
     "name": "stdout",
     "text": "[]\n"
    }
   ],
   "source": [
    "data = pd.read_csv(\"PA_train_CKSNAP_gap-3.csv\", header=None)\n",
    "data.head()\n",
    "data = data.to_numpy()[:,1:]\n",
    "print(data[0,:])\n",
    "np.save(\"NA_test_CKSNAP_gap-1.npy\",data)"
   ]
  },
  {
   "cell_type": "code",
   "execution_count": 41,
   "metadata": {
    "tags": []
   },
   "outputs": [
    {
     "output_type": "stream",
     "name": "stdout",
     "text": "[]\n"
    }
   ],
   "source": [
    "data = pd.read_csv(\"PA_train_CKSNAP_gap-5.csv\", header=None)\n",
    "data.head()\n",
    "data = data.to_numpy()[:,1:]\n",
    "print(data[0,:])\n",
    "np.save(\"NA_test_CKSNAP_gap-1.npy\",data)"
   ]
  },
  {
   "cell_type": "code",
   "execution_count": 42,
   "metadata": {
    "tags": []
   },
   "outputs": [
    {
     "output_type": "stream",
     "name": "stdout",
     "text": "[]\n"
    }
   ],
   "source": [
    "data = pd.read_csv(\"PA_train_CKSNAP_gap-7.csv\", header=None)\n",
    "data.head()\n",
    "data = data.to_numpy()[:,1:]\n",
    "print(data[0,:])\n",
    "np.save(\"NA_test_CKSNAP_gap-1.npy\",data)"
   ]
  },
  {
   "cell_type": "code",
   "execution_count": 43,
   "metadata": {
    "tags": []
   },
   "outputs": [
    {
     "output_type": "stream",
     "name": "stdout",
     "text": "[]\n"
    }
   ],
   "source": [
    "data = pd.read_csv(\"PA_train_CKSNAP_gap-9.csv\", header=None)\n",
    "data.head()\n",
    "data = data.to_numpy()[:,1:]\n",
    "print(data[0,:])\n",
    "np.save(\"NA_test_CKSNAP_gap-1.npy\",data)"
   ]
  },
  {
   "cell_type": "code",
   "execution_count": null,
   "metadata": {},
   "outputs": [],
   "source": []
  }
 ]
}