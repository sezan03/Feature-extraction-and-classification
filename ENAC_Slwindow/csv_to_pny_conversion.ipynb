{
 "metadata": {
  "language_info": {
   "codemirror_mode": {
    "name": "ipython",
    "version": 3
   },
   "file_extension": ".py",
   "mimetype": "text/x-python",
   "name": "python",
   "nbconvert_exporter": "python",
   "pygments_lexer": "ipython3",
   "version": "3.8.3-final"
  },
  "orig_nbformat": 2,
  "kernelspec": {
   "name": "python_defaultSpec_1605619514571",
   "display_name": "Python 3.8.3 64-bit"
  }
 },
 "nbformat": 4,
 "nbformat_minor": 2,
 "cells": [
  {
   "cell_type": "code",
   "execution_count": 1,
   "metadata": {},
   "outputs": [],
   "source": [
    "import pandas as pd\n",
    "import numpy as np"
   ]
  },
  {
   "cell_type": "code",
   "execution_count": 2,
   "metadata": {
    "tags": []
   },
   "outputs": [
    {
     "output_type": "stream",
     "name": "stdout",
     "text": "[]\n"
    }
   ],
   "source": [
    "data = pd.read_csv(\"NA_test_ENAC_slwindow-5.csv\", header=None)\n",
    "data.head()\n",
    "data = data.to_numpy()[:,1:]\n",
    "print(data[0,:])\n",
    "np.save(\"NA_test_ENAC_slwindow-5.npy\",data)"
   ]
  },
  {
   "cell_type": "code",
   "execution_count": 3,
   "metadata": {
    "tags": []
   },
   "outputs": [
    {
     "output_type": "stream",
     "name": "stdout",
     "text": "[]\n"
    }
   ],
   "source": [
    "data = pd.read_csv(\"NA_test_ENAC_slwindow-10.csv\", header=None)\n",
    "data.head()\n",
    "data = data.to_numpy()[:,1:]\n",
    "print(data[0,:])\n",
    "np.save(\"NA_test_ENAC_slwindow-10.npy\",data)"
   ]
  },
  {
   "cell_type": "code",
   "execution_count": 4,
   "metadata": {
    "tags": []
   },
   "outputs": [
    {
     "output_type": "stream",
     "name": "stdout",
     "text": "[]\n"
    }
   ],
   "source": [
    "data = pd.read_csv(\"NA_train_ENAC_slwindow-5.csv\", header=None)\n",
    "data.head()\n",
    "data = data.to_numpy()[:,1:]\n",
    "print(data[0,:])\n",
    "np.save(\"NA_train_ENAC_slwindow-5.npy\",data)"
   ]
  },
  {
   "cell_type": "code",
   "execution_count": 5,
   "metadata": {
    "tags": []
   },
   "outputs": [
    {
     "output_type": "stream",
     "name": "stdout",
     "text": "[]\n"
    }
   ],
   "source": [
    "data = pd.read_csv(\"NA_train_ENAC_slwindow-10.csv\", header=None)\n",
    "data.head()\n",
    "data = data.to_numpy()[:,1:]\n",
    "print(data[0,:])\n",
    "np.save(\"NA_train_ENAC_slwindow-10.npy\",data)"
   ]
  },
  {
   "cell_type": "code",
   "execution_count": 6,
   "metadata": {
    "tags": []
   },
   "outputs": [
    {
     "output_type": "stream",
     "name": "stdout",
     "text": "[]\n"
    }
   ],
   "source": [
    "data = pd.read_csv(\"PA_test_ENAC_slwindow-5.csv\", header=None)\n",
    "data.head()\n",
    "data = data.to_numpy()[:,1:]\n",
    "print(data[0,:])\n",
    "np.save(\"PA_test_ENAC_slwindow-5.npy\",data)"
   ]
  },
  {
   "cell_type": "code",
   "execution_count": 7,
   "metadata": {
    "tags": []
   },
   "outputs": [
    {
     "output_type": "stream",
     "name": "stdout",
     "text": "[]\n"
    }
   ],
   "source": [
    "data = pd.read_csv(\"PA_test_ENAC_slwindow-10.csv\", header=None)\n",
    "data.head()\n",
    "data = data.to_numpy()[:,1:]\n",
    "print(data[0,:])\n",
    "np.save(\"PA_test_ENAC_slwindow-10.npy\",data)"
   ]
  },
  {
   "cell_type": "code",
   "execution_count": 8,
   "metadata": {
    "tags": []
   },
   "outputs": [
    {
     "output_type": "stream",
     "name": "stdout",
     "text": "[]\n"
    }
   ],
   "source": [
    "data = pd.read_csv(\"PA_train_ENAC_slwindow-5.csv\", header=None)\n",
    "data.head()\n",
    "data = data.to_numpy()[:,1:]\n",
    "print(data[0,:])\n",
    "np.save(\"PA_train_ENAC_slwindow-5.npy\",data)"
   ]
  },
  {
   "cell_type": "code",
   "execution_count": 9,
   "metadata": {
    "tags": []
   },
   "outputs": [
    {
     "output_type": "stream",
     "name": "stdout",
     "text": "[]\n"
    }
   ],
   "source": [
    "data = pd.read_csv(\"PA_train_ENAC_slwindow-10.csv\", header=None)\n",
    "data.head()\n",
    "data = data.to_numpy()[:,1:]\n",
    "print(data[0,:])\n",
    "np.save(\"PA_train_ENAC_slwindow-10.npy\",data)"
   ]
  }
 ]
}