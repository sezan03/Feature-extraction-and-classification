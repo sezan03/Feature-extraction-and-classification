{
 "metadata": {
  "language_info": {
   "codemirror_mode": {
    "name": "ipython",
    "version": 3
   },
   "file_extension": ".py",
   "mimetype": "text/x-python",
   "name": "python",
   "nbconvert_exporter": "python",
   "pygments_lexer": "ipython3",
   "version": "3.8.3-final"
  },
  "orig_nbformat": 2,
  "kernelspec": {
   "name": "python_defaultSpec_1605604496212",
   "display_name": "Python 3.8.3 64-bit"
  }
 },
 "nbformat": 4,
 "nbformat_minor": 2,
 "cells": [
  {
   "cell_type": "code",
   "execution_count": 2,
   "metadata": {
    "tags": []
   },
   "outputs": [
    {
     "output_type": "stream",
     "name": "stdout",
     "text": "[[0.31707317 0.34146341 0.07317073 ... 0.         0.         0.        ]\n [0.41463415 0.17073171 0.17073171 ... 0.         0.         0.        ]\n [0.31707317 0.2195122  0.14634146 ... 0.         0.         0.        ]\n ...\n [0.36585366 0.14634146 0.14634146 ... 0.         0.02702703 0.        ]\n [0.29268293 0.19512195 0.14634146 ... 0.         0.         0.        ]\n [0.26829268 0.29268293 0.14634146 ... 0.         0.         0.        ]]\n"
    }
   ],
   "source": [
    "import numpy as np\n",
    "\n",
    "a = np.load('NA_test_kmer-5.npy')\n",
    "print(a)"
   ]
  },
  {
   "cell_type": "code",
   "execution_count": null,
   "metadata": {},
   "outputs": [],
   "source": []
  }
 ]
}